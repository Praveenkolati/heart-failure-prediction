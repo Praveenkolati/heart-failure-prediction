{
 "cells": [
  {
   "cell_type": "code",
   "execution_count": null,
   "id": "f97c917b",
   "metadata": {},
   "outputs": [],
   "source": [
    "import numpy as np\n",
    "import pandas as pd\n",
    "import pickle\n",
    "from sklearn.model_selection import train_test_split, cross_val_score, GridSearchCV, learning_curve\n",
    "from sklearn.ensemble import RandomForestClassifier, ExtraTreesClassifier, GradientBoostingClassifier, AdaBoostClassifier\n",
    "from sklearn.svm import SVC\n",
    "from sklearn.linear_model import LogisticRegression\n",
    "from sklearn.discriminant_analysis import LinearDiscriminantAnalysis\n",
    "from sklearn.naive_bayes import GaussianNB\n",
    "from sklearn.metrics import classification_report, confusion_matrix, precision_recall_curve, roc_auc_score, accuracy_score, roc_curve\n",
    "from sklearn.preprocessing import MinMaxScaler\n",
    "from sklearn.utils import resample\n",
    "from sklearn.calibration import CalibratedClassifierCV\n",
    "import seaborn as sns\n",
    "import matplotlib.pyplot as plt"
   ]
  },
  {
   "cell_type": "code",
   "execution_count": null,
   "id": "18af298d",
   "metadata": {
    "lines_to_next_cell": 1
   },
   "outputs": [],
   "source": [
    "# Load data\n",
    "df = pd.read_csv('heart_failure_clinical_records_dataset.csv')"
   ]
  },
  {
   "cell_type": "code",
   "execution_count": null,
   "id": "840db915",
   "metadata": {
    "lines_to_next_cell": 1
   },
   "outputs": [],
   "source": [
    "# Checking for duplicates\n",
    "def checking_removing_duplicates(df):\n",
    "    count_dups = df.duplicated().sum()\n",
    "    print(\"Number of Duplicates: \", count_dups)\n",
    "    if count_dups >= 1:\n",
    "        df.drop_duplicates(inplace=True)\n",
    "        print('Duplicate values removed!')\n",
    "    else:\n",
    "        print('No Duplicate values')"
   ]
  },
  {
   "cell_type": "code",
   "execution_count": null,
   "id": "eb2361da",
   "metadata": {},
   "outputs": [],
   "source": [
    "checking_removing_duplicates(df)"
   ]
  },
  {
   "cell_type": "code",
   "execution_count": null,
   "id": "42186d65",
   "metadata": {},
   "outputs": [],
   "source": [
    "# Handling outliers\n",
    "Q1 = df.quantile(0.25)\n",
    "Q3 = df.quantile(0.75)\n",
    "IQR = Q3 - Q1\n",
    "df_out = df[~((df < (Q1 - 1.5 * IQR)) | (df > (Q3 + 1.5 * IQR))).any(axis=1)]"
   ]
  },
  {
   "cell_type": "code",
   "execution_count": null,
   "id": "1f7d1404",
   "metadata": {},
   "outputs": [],
   "source": [
    "# Handling class imbalance\n",
    "live = df_out[df_out.DEATH_EVENT == 0]\n",
    "die = df_out[df_out.DEATH_EVENT == 1]"
   ]
  },
  {
   "cell_type": "code",
   "execution_count": null,
   "id": "8b19a9a2",
   "metadata": {},
   "outputs": [],
   "source": [
    "die_upsampled = resample(die, replace=True, n_samples=len(live), random_state=0)"
   ]
  },
  {
   "cell_type": "code",
   "execution_count": null,
   "id": "943bc23b",
   "metadata": {},
   "outputs": [],
   "source": [
    "upsampled = pd.concat([live, die_upsampled])"
   ]
  },
  {
   "cell_type": "code",
   "execution_count": null,
   "id": "151fe285",
   "metadata": {},
   "outputs": [],
   "source": [
    "# Split data\n",
    "X = upsampled.drop(['DEATH_EVENT'], axis=1)\n",
    "y = upsampled['DEATH_EVENT']\n",
    "X_train, X_test, y_train, y_test = train_test_split(X, y, test_size=0.2, random_state=42)"
   ]
  },
  {
   "cell_type": "code",
   "execution_count": null,
   "id": "d1d26aef",
   "metadata": {},
   "outputs": [],
   "source": [
    "# Feature scaling\n",
    "scaler = MinMaxScaler()\n",
    "X_train_scaled = scaler.fit_transform(X_train)\n",
    "X_test_scaled = scaler.transform(X_test)"
   ]
  },
  {
   "cell_type": "code",
   "execution_count": null,
   "id": "0596cc40",
   "metadata": {},
   "outputs": [],
   "source": [
    "# Train and evaluate models\n",
    "models = [\n",
    "    LogisticRegression(max_iter=10000, solver='lbfgs'),\n",
    "    LinearDiscriminantAnalysis(),\n",
    "    GaussianNB(),\n",
    "    SVC(probability=True),\n",
    "    AdaBoostClassifier(algorithm='SAMME'),\n",
    "    GradientBoostingClassifier(),\n",
    "    RandomForestClassifier(),\n",
    "    ExtraTreesClassifier(n_jobs=-1)\n",
    "]"
   ]
  },
  {
   "cell_type": "code",
   "execution_count": null,
   "id": "240a20e1",
   "metadata": {},
   "outputs": [],
   "source": [
    "best_model = None\n",
    "best_accuracy = 0.0"
   ]
  },
  {
   "cell_type": "code",
   "execution_count": null,
   "id": "8d8397e5",
   "metadata": {},
   "outputs": [],
   "source": [
    "for model in models:\n",
    "    if isinstance(model, LogisticRegression):\n",
    "        # Use a different solver and increase the max_iter\n",
    "        model = LogisticRegression(max_iter=10000, solver='lbfgs')\n",
    "\n",
    "    # Check if the model is ExtraTreesClassifier\n",
    "    if isinstance(model, ExtraTreesClassifier):\n",
    "        et_model = ExtraTreesClassifier(n_jobs=-1)\n",
    "        et_model.fit(X, y)\n",
    "\n",
    "    model.fit(X_train_scaled, y_train)\n",
    "    y_pred = model.predict(X_test_scaled)\n",
    "    accuracy = accuracy_score(y_test, y_pred)\n",
    "    print(f'{model.__class__.__name__}: {accuracy}')\n",
    "\n",
    "    if accuracy > best_accuracy:\n",
    "        best_accuracy = accuracy\n",
    "        best_model = model"
   ]
  },
  {
   "cell_type": "code",
   "execution_count": null,
   "id": "1089fe36",
   "metadata": {},
   "outputs": [],
   "source": [
    "# Calibrate the best model\n",
    "calibrated_model = CalibratedClassifierCV(best_model, method='sigmoid', cv='prefit')\n",
    "calibrated_model.fit(X_train_scaled, y_train)\n",
    "y_pred_calibrated = calibrated_model.predict(X_test_scaled)"
   ]
  },
  {
   "cell_type": "code",
   "execution_count": null,
   "id": "424e6058",
   "metadata": {},
   "outputs": [],
   "source": [
    "# Performance metrics\n",
    "print(\"Classification Report:\")\n",
    "print(classification_report(y_test, y_pred_calibrated))"
   ]
  },
  {
   "cell_type": "code",
   "execution_count": null,
   "id": "ae175a5a",
   "metadata": {},
   "outputs": [],
   "source": [
    "# Confusion matrix\n",
    "plt.figure(figsize=(8, 6))\n",
    "sns.heatmap(confusion_matrix(y_test, y_pred_calibrated), annot=True, cmap='YlGnBu', fmt='g')\n",
    "plt.title('Confusion Matrix')\n",
    "plt.xlabel('Predicted Label')\n",
    "plt.ylabel('True Label')\n",
    "plt.savefig(\"fig1\")"
   ]
  },
  {
   "cell_type": "code",
   "execution_count": null,
   "id": "3d5be525",
   "metadata": {},
   "outputs": [],
   "source": [
    "# ROC AUC curve\n",
    "probs = calibrated_model.predict_proba(X_test_scaled)[:, 1]\n",
    "fpr, tpr, thresholds = roc_curve(y_test, probs)\n",
    "roc_auc = roc_auc_score(y_test, probs)"
   ]
  },
  {
   "cell_type": "code",
   "execution_count": null,
   "id": "e8c900bf",
   "metadata": {},
   "outputs": [],
   "source": [
    "plt.figure()\n",
    "plt.plot(fpr, tpr, color='darkorange', lw=2, label='ROC curve (area = %0.2f)' % roc_auc)\n",
    "plt.plot([0, 1], [0, 1], color='navy', lw=2, linestyle='--')\n",
    "plt.xlabel('False Positive Rate')\n",
    "plt.ylabel('True Positive Rate')\n",
    "plt.title('Receiver Operating Characteristic (ROC) Curve')\n",
    "plt.legend(loc=\"lower right\")\n",
    "plt.savefig(\"fig2\")\n",
    "# Precision-Recall curve\n",
    "precision, recall, _ = precision_recall_curve(y_test, calibrated_model.predict_proba(X_test_scaled)[:, 1])"
   ]
  },
  {
   "cell_type": "code",
   "execution_count": null,
   "id": "15a6c215",
   "metadata": {},
   "outputs": [],
   "source": [
    "plt.figure()\n",
    "plt.plot(recall, precision, color='blue', lw=2, label='Precision-Recall curve')\n",
    "plt.xlabel('Recall')\n",
    "plt.ylabel('Precision')\n",
    "plt.title('Precision-Recall Curve')\n",
    "plt.legend(loc=\"lower left\")\n",
    "plt.savefig(\"fig3\")"
   ]
  },
  {
   "cell_type": "code",
   "execution_count": null,
   "id": "a6459773",
   "metadata": {},
   "outputs": [],
   "source": [
    "# Save the best model\n",
    "with open('model.pkl', 'wb') as file:\n",
    "    pickle.dump(calibrated_model, file)"
   ]
  },
  {
   "cell_type": "code",
   "execution_count": null,
   "id": "3696fa7f",
   "metadata": {},
   "outputs": [],
   "source": [
    "# Load the model\n",
    "with open('model.pkl', 'rb') as file:\n",
    "    loaded_model = pickle.load(file)"
   ]
  },
  {
   "cell_type": "code",
   "execution_count": null,
   "id": "6e57628c",
   "metadata": {},
   "outputs": [],
   "source": [
    "# Predict probabilities for test set\n",
    "probabilities = loaded_model.predict_proba(X_test_scaled)"
   ]
  },
  {
   "cell_type": "code",
   "execution_count": null,
   "id": "4dda5254",
   "metadata": {},
   "outputs": [],
   "source": [
    "# Check predictions\n",
    "# For example, let's check the first 10 predictions\n",
    "for i in range(10):\n",
    "    print(f\"Actual: {y_test.iloc[i]}, Predicted probability of dying: {probabilities[i][1]}, Predicted probability of living: {probabilities[i][0]}\")"
   ]
  },
  {
   "cell_type": "code",
   "execution_count": null,
   "id": "8ee20253",
   "metadata": {},
   "outputs": [],
   "source": [
    "# Cross-validation\n",
    "scores = cross_val_score(best_model, X_train_scaled, y_train, cv=5)"
   ]
  },
  {
   "cell_type": "code",
   "execution_count": null,
   "id": "60c81165",
   "metadata": {},
   "outputs": [],
   "source": [
    "# Print scores and calculate cross-validation score mean\n",
    "print(\"Cross-Validation Scores:\", scores) \n",
    "print(\"Mean Cross-Validation Score: {},\".format(scores.mean()))"
   ]
  },
  {
   "cell_type": "code",
   "execution_count": null,
   "id": "e4dc20c0",
   "metadata": {},
   "outputs": [],
   "source": [
    "# Learning curve\n",
    "train_sizes, train_scores, test_scores = learning_curve(best_model, X_train_scaled, y_train, cv=5)\n",
    "train_mean = np.mean(train_scores, axis=1)\n",
    "train_std = np.std(train_scores, axis=1)\n",
    "test_mean = np.mean(test_scores, axis=1)\n",
    "test_std = np.std(test_scores, axis=1)"
   ]
  },
  {
   "cell_type": "code",
   "execution_count": null,
   "id": "96f84d91",
   "metadata": {},
   "outputs": [],
   "source": [
    "plt.figure(figsize=(10, 6))\n",
    "plt.plot(train_sizes, train_mean, color='blue', marker='o', markersize=5, label='Training accuracy')\n",
    "plt.fill_between(train_sizes, train_mean + train_std, train_mean - train_std, alpha=0.15, color='blue')\n",
    "plt.plot(train_sizes, test_mean, color='green', linestyle='--', marker='s', markersize=5, label='Validation accuracy')\n",
    "plt.fill_between(train_sizes, test_mean + test_std, test_mean - test_std, alpha=0.15, color='green')\n",
    "plt.xlabel('Number of training samples')\n",
    "plt.ylabel('Accuracy')\n",
    "plt.legend(loc='lower right')\n",
    "plt.title('Learning Curves')\n",
    "plt.savefig(\"fig4\")"
   ]
  },
  {
   "cell_type": "code",
   "execution_count": null,
   "id": "29a91a44",
   "metadata": {},
   "outputs": [],
   "source": [
    "# Grid Search\n",
    "param_grid = {\n",
    "    'n_estimators': [100, 200, 300, 400, 500, 600, 700, 800, 900, 1000]\n",
    "}"
   ]
  },
  {
   "cell_type": "code",
   "execution_count": null,
   "id": "af6e87de",
   "metadata": {},
   "outputs": [],
   "source": [
    "grid_search = GridSearchCV(estimator=best_model, param_grid=param_grid, cv=5, n_jobs=-1)\n",
    "grid_search.fit(X_train_scaled, y_train)"
   ]
  },
  {
   "cell_type": "code",
   "execution_count": null,
   "id": "0414fbf1",
   "metadata": {},
   "outputs": [],
   "source": [
    "# Print best parameters and score\n",
    "print(\"Best parameters:\", grid_search.best_params_)\n",
    "print(\"Best cross-validation score:\", grid_search.best_score_)"
   ]
  },
  {
   "cell_type": "code",
   "execution_count": null,
   "id": "24921172",
   "metadata": {},
   "outputs": [],
   "source": [
    "# Make predictions on the test set\n",
    "predictions = grid_search.predict(X_test_scaled)"
   ]
  },
  {
   "cell_type": "code",
   "execution_count": null,
   "id": "1686e6ce",
   "metadata": {},
   "outputs": [],
   "source": [
    "# Performance metrics\n",
    "print(\"Classification Report after Grid Search:\")\n",
    "print(classification_report(y_test, predictions))"
   ]
  },
  {
   "cell_type": "code",
   "execution_count": null,
   "id": "58476b75",
   "metadata": {},
   "outputs": [],
   "source": [
    "# Confusion matrix\n",
    "plt.figure(figsize=(8, 6))\n",
    "sns.heatmap(confusion_matrix(y_test, predictions), annot=True, cmap='YlGnBu', fmt='g')\n",
    "plt.title('Confusion Matrix after Grid Search')\n",
    "plt.xlabel('Predicted Label')\n",
    "plt.ylabel('True Label')\n",
    "plt.savefig(\"fig5\")"
   ]
  },
  {
   "cell_type": "code",
   "execution_count": null,
   "id": "9434d053",
   "metadata": {},
   "outputs": [],
   "source": [
    "# ROC AUC curve\n",
    "probs = grid_search.predict_proba(X_test_scaled)[:, 1]\n",
    "fpr, tpr, thresholds = roc_curve(y_test, probs)\n",
    "roc_auc = roc_auc_score(y_test, probs)"
   ]
  },
  {
   "cell_type": "code",
   "execution_count": null,
   "id": "43ea03f4",
   "metadata": {},
   "outputs": [],
   "source": [
    "plt.figure()\n",
    "plt.plot(fpr, tpr, color='darkorange', lw=2, label='ROC curve (area = %0.2f)' % roc_auc)\n",
    "plt.plot([0, 1], [0, 1], color='navy', lw=2, linestyle='--')\n",
    "plt.xlabel('False Positive Rate')\n",
    "plt.ylabel('True Positive Rate')\n",
    "plt.title('Receiver Operating Characteristic (ROC) Curve after Grid Search')\n",
    "plt.legend(loc=\"lower right\")\n",
    "plt.savefig(\"fig6\")"
   ]
  }
 ],
 "metadata": {
  "jupytext": {
   "cell_metadata_filter": "-all",
   "main_language": "python",
   "notebook_metadata_filter": "-all"
  }
 },
 "nbformat": 4,
 "nbformat_minor": 5
}
